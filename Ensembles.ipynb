{
 "cells": [
  {
   "cell_type": "code",
   "execution_count": 1,
   "metadata": {
    "slideshow": {
     "slide_type": "notes"
    }
   },
   "outputs": [
    {
     "data": {
      "text/latex": [
       "$$\n",
       "\\newcommand{\\x}{\\mathbf{x}}\n",
       "\\newcommand{\\tx}{\\tilde{\\x}}\n",
       "\\newcommand{\\y}{\\mathbf{y}}\n",
       "\\newcommand{\\b}{\\mathbf{b}}\n",
       "\\newcommand{\\c}{\\mathbf{c}}\n",
       "\\newcommand{\\e}{\\mathbf{e}}\n",
       "\\newcommand{\\z}{\\mathbf{z}}\n",
       "\\newcommand{\\h}{\\mathbf{h}}\n",
       "\\newcommand{\\u}{\\mathbf{u}}\n",
       "\\newcommand{\\v}{\\mathbf{v}}\n",
       "\\newcommand{\\w}{\\mathbf{w}}\n",
       "\\newcommand{\\V}{\\mathbf{V}}\n",
       "\\newcommand{\\W}{\\mathbf{W}}\n",
       "\\newcommand{\\X}{\\mathbf{X}}\n",
       "\\newcommand{\\KL}{\\mathbf{KL}}\n",
       "\\newcommand{\\E}{{\\mathbb{E}}}\n",
       "\\newcommand{\\Reals}{{\\mathbb{R}}}\n",
       "\\newcommand{\\ip}{\\mathbf{{(i)}}}\n",
       "%\n",
       "% Test set\n",
       "\\newcommand{\\xt}{\\underline{\\x}}\n",
       "\\newcommand{\\yt}{\\underline{\\y}}\n",
       "\\newcommand{\\Xt}{\\underline{\\X}}\n",
       "\\newcommand{\\perfm}{\\mathcal{P}}\n",
       "%\n",
       "% \\ll indexes a layer; we can change the actual letter\n",
       "\\newcommand{\\ll}{l}\n",
       "\\newcommand{\\llp}{{(\\ll)}}\n",
       "%\n",
       "\\newcommand{Thetam}{\\Theta_{-0}}\n",
       "\n",
       "% CNN\n",
       "\\newcommand{\\kernel}{\\mathbf{k}} \n",
       "\\newcommand{\\dim}{d}\n",
       "\\newcommand{\\idxspatial}{{\\text{idx}}}\n",
       "\\newcommand{\\summaxact}{\\text{max}}\n",
       "\\newcommand{idxb}{\\mathbf{i}}\n",
       "%\n",
       "%\n",
       "\n",
       "% RNN\n",
       "% \\tt indexes a time step\n",
       "\\newcommand{\\tt}{t}\n",
       "\\newcommand{\\tp}{{(\\tt)}}\n",
       "%\n",
       "%\n",
       "\n",
       "% LSTM\n",
       "\\newcommand{\\g}{\\mathbf{g}}\n",
       "\\newcommand{\\remember}{\\mathbf{remember}}\n",
       "\\newcommand{\\save}{\\mathbf{save}}\n",
       "\\newcommand{\\focus}{\\mathbf{focus}}\n",
       "%\n",
       "%\n",
       "% NLP\n",
       "\\newcommand{\\Vocab}{\\mathbf{V}}\n",
       "\\newcommand{\\v}{\\mathbf{v}}\n",
       "\\newcommand{\\offset}{o}\n",
       "\\newcommand{\\o}{o}\n",
       "\\newcommand{\\Emb}{\\mathbf{E}}\n",
       "%\n",
       "%\n",
       "\\newcommand{\\loss}{\\mathcal{L}}\n",
       "\\newcommand{\\cost}{\\mathcal{L}}\n",
       "%\n",
       "%                     \n",
       "\\newcommand{\\pdata}{p_\\text{data}}\n",
       "\\newcommand{\\pmodel}{p_\\text{model}}\n",
       "%\n",
       "% SVM\n",
       "\\newcommand{\\margin}{{\\mathbb{m}}}\n",
       "\\newcommand{\\lmk}{\\boldsymbol{\\ell}}\n",
       "%\n",
       "%\n",
       "% Functions with arguments\n",
       "\\def\\xsy#1#2{#1^#2}\n",
       "\\def\\rand#1{\\tilde{#1}}\n",
       "\\def\\randx{\\rand{\\x}}\n",
       "\\def\\randy{\\rand{\\y}}\n",
       "\\def\\trans#1{\\dot{#1}}\n",
       "\\def\\transx{\\trans{\\x}}\n",
       "\\def\\transy{\\trans{\\y}}\n",
       "%\n",
       "\\def\\argmax#1{\\underset{#1} {\\operatorname{argmax}} }\n",
       "\\def\\argmin#1{\\underset{#1} {\\operatorname{argmin}} }\n",
       "\\def\\max#1{\\underset{#1} {\\operatorname{max}} }\n",
       "\\def\\min#1{\\underset{#1} {\\operatorname{min}} }\n",
       "%\n",
       "\\def\\pr#1{\\mathcal{p}(#1)}\n",
       "\\def\\prc#1#2{\\mathcal{p}(#1 \\; | \\; #2)}\n",
       "\\def\\cnt#1{\\mathcal{count}_{#1}}\n",
       "\\def\\node#1{\\mathbb{#1}}\n",
       "%\n",
       "\\def\\loc#1{{\\text{##} {#1}}}\n",
       "%\n",
       "\\def\\OrderOf#1{\\mathcal{O}\\left( {#1} \\right)}\n",
       "%\n",
       "% Expectation operator\n",
       "\\def\\Exp#1{\\underset{#1} {\\operatorname{\\mathbb{E}}} }\n",
       "%\n",
       "% VAE\n",
       "\\def\\prs#1#2{\\mathcal{p}_{#2}(#1)}\n",
       "\\def\\qr#1{\\mathcal{q}(#1)}\n",
       "\\def\\qrs#1#2{\\mathcal{q}_{#2}(#1)}\n",
       "%\n",
       "% Reinforcement learning\n",
       "\\newcommand{\\Actions}{{\\mathcal{A}}} \n",
       "\\newcommand{\\actseq}{A}\n",
       "\\newcommand{\\act}{a}\n",
       "\\newcommand{\\States}{{\\mathcal{S}}}   \n",
       "\\newcommand{\\stateseq}{S}  \n",
       "\\newcommand{\\state}{s}\n",
       "\\newcommand{\\Rewards}{{\\mathcal{R}}}\n",
       "\\newcommand{\\rewseq}{R}\n",
       "\\newcommand{\\rew}{r}\n",
       "\\newcommand{\\transp}{P}\n",
       "\\newcommand{\\statevalfun}{v}\n",
       "\\newcommand{\\actvalfun}{q}\n",
       "\\newcommand{\\disc}{\\gamma}\n",
       "%\n",
       "%\n",
       "\\newcommand{\\floor}[1]{\\left\\lfloor #1 \\right\\rfloor}\n",
       "\\newcommand{\\ceil}[1]{\\left\\lceil #1 \\right\\rceil}\n",
       "%\n",
       "%\n",
       "$$\n"
      ],
      "text/plain": [
       "<IPython.core.display.Latex object>"
      ]
     },
     "metadata": {},
     "output_type": "display_data"
    }
   ],
   "source": [
    "%run Latex_macros.ipynb\n",
    "%run beautify_plots.py"
   ]
  },
  {
   "cell_type": "code",
   "execution_count": 2,
   "metadata": {
    "slideshow": {
     "slide_type": "notes"
    }
   },
   "outputs": [],
   "source": [
    "# My standard magic !  You will see this in almost all my notebooks.\n",
    "\n",
    "from IPython.core.interactiveshell import InteractiveShell\n",
    "InteractiveShell.ast_node_interactivity = \"all\"\n",
    "\n",
    "# Reload all modules imported with %aimport\n",
    "%load_ext autoreload\n",
    "%autoreload 1\n",
    "\n",
    "%matplotlib inline"
   ]
  },
  {
   "cell_type": "code",
   "execution_count": 3,
   "metadata": {
    "slideshow": {
     "slide_type": "notes"
    }
   },
   "outputs": [],
   "source": [
    "import pandas as pd\n",
    "import numpy as np\n",
    "import matplotlib.pyplot as plt\n",
    "\n",
    "import matplotlib.ticker as mtick"
   ]
  },
  {
   "cell_type": "code",
   "execution_count": 4,
   "metadata": {
    "slideshow": {
     "slide_type": "notes"
    }
   },
   "outputs": [],
   "source": [
    "import decision_trees_helper\n",
    "%aimport decision_trees_helper\n",
    "\n",
    "import class_helper\n",
    "%aimport class_helper"
   ]
  },
  {
   "cell_type": "code",
   "execution_count": 5,
   "metadata": {
    "slideshow": {
     "slide_type": "notes"
    }
   },
   "outputs": [
    {
     "name": "stdout",
     "output_type": "stream",
     "text": [
      "RandomForest with 30 estimators with features [0, 2] has a score of 0.9466666666666667\n"
     ]
    }
   ],
   "source": [
    "# Generate plots for use in the notebook\n",
    "ens_h = decision_trees_helper.Ensemble_Helper()\n",
    "data = ens_h.make_iris()\n",
    "\n",
    "ens_result = ens_h.make_ens( pairs=[ [0,2] ])\n",
    "fig_submodels, axs_submodles = ens_result[\"individual models plot\"]\n",
    "fig_sum, axs_sum = ens_result[\"ensemble plot\"]\n",
    "pairs = ens_result[\"pairs\"]"
   ]
  },
  {
   "cell_type": "code",
   "execution_count": 6,
   "metadata": {
    "slideshow": {
     "slide_type": "notes"
    }
   },
   "outputs": [],
   "source": [
    "# Pick one pair, one model from the list of (pairs x models) to plot\n",
    "pair_idx, model_idx = 0,0\n",
    "pair = pairs[pair_idx]\n",
    "\n",
    "ens_estimators = ens_result[\"estimators\"][pair_idx][model_idx]\n",
    "X, y = ens_result[\"individual model data\"][pair_idx][model_idx]\n",
    "\n",
    "fig_ens = ens_h.plot_ens(X, y, ens_estimators, feature_names=[ \"$x_{i:d}$\".format(i=idx+1) \n",
    "                                                              for i, idx in enumerate(pair)\n",
    "                                                             ])"
   ]
  },
  {
   "cell_type": "markdown",
   "metadata": {
    "slideshow": {
     "slide_type": "slide"
    }
   },
   "source": [
    "# Ensembles\n",
    "\n",
    "Following our Recipe for Machine Learning, we may try out several models before deciding on the final one.\n",
    "\n",
    "Is a single \"best\" model really best ? Is there an alternative ?"
   ]
  },
  {
   "cell_type": "markdown",
   "metadata": {
    "slideshow": {
     "slide_type": "subslide"
    }
   },
   "source": [
    "By combining models with independent errors, we may be able to construct a combined model\n",
    "whose accuracy is better than the best individual model.\n",
    "\n",
    "The combined models are called an *Ensemble*.\n",
    "\n",
    "The individual models\n",
    "- May be of different types: \n",
    "    - Decision Tree, Logistic Regression, KNN\n",
    "- May be of the *same* type. Models differ by\n",
    "    - different parameters/hyper-parameters:\n",
    "        - Decision Trees of different depths or different features\n",
    "        - Regression with polynomial features of different degrees\n",
    "    - training datasets\n",
    "        -subsets of full dataset"
   ]
  },
  {
   "cell_type": "markdown",
   "metadata": {
    "slideshow": {
     "slide_type": "subslide"
    }
   },
   "source": [
    "When the individual models are of the same type\n",
    "- Each individual model is trained on a *different* subset of the training examples\n",
    "- This enables the individual models to produce different results\n",
    "- Makes them more robust to outliers\n",
    "\n",
    "We will shortly explain how the subsets are chosen."
   ]
  },
  {
   "cell_type": "markdown",
   "metadata": {
    "slideshow": {
     "slide_type": "subslide"
    }
   },
   "source": [
    "Here is an Ensemble of individual models of the same type: Decision Trees\n",
    "- classification among 3 classes\n",
    "- trained on different subsets of the training dataset\n",
    "    - details to follow: Bagging, Boosting\n",
    "- we have limited the features used to $\\x_1, \\x_3$ only to make the diagrams smaller"
   ]
  },
  {
   "cell_type": "code",
   "execution_count": 7,
   "metadata": {
    "slideshow": {
     "slide_type": "subslide"
    }
   },
   "outputs": [
    {
     "data": {
      "image/png": "[encoded data removed]",
      "text/plain": [
       "<Figure size 1080x648 with 3 Axes>"
      ]
     },
     "execution_count": 7,
     "metadata": {},
     "output_type": "execute_result"
    }
   ],
   "source": [
    "fig_ens"
   ]
  },
  {
   "cell_type": "markdown",
   "metadata": {
    "slideshow": {
     "slide_type": "subslide"
    }
   },
   "source": [
    "The individual models are usually quite simple and restricted.\n",
    "- They are *weak learners*: accuracy only marginally better than chance\n",
    "- But combine to create a *strong learner*.\n"
   ]
  },
  {
   "cell_type": "markdown",
   "metadata": {
    "slideshow": {
     "slide_type": "subslide"
    }
   },
   "source": [
    "If the prediction of an ensemble of $M$ binary classifiers is based on a \"majority vote\"\n",
    "- The prediction is incorrect only if $m' \\ge \\ceil{M/2}$ classifiers are incorrect\n",
    "- The probability of a particular set of $m'$ models of equal accuracy $A$ all being incorrect is\n",
    "$\n",
    "{ (1 - A)^{m'} }\n",
    "$\n",
    "- There are $$ \\begin{pmatrix} M \\\\ m' \\\\\n",
    "\\end{pmatrix}\n",
    "$$\n",
    "combinations of $m'$ models\n",
    "- So the probability of a correct ensemble prediction when $m'$ classifiers are incorrect is\n",
    "$$\n",
    "1- \\begin{pmatrix} M \\\\ m' \\\\\n",
    "\\end{pmatrix} *  { (1 - A)^{m'} }\n",
    "$$\n",
    "which tends to $1$ as $M$ ( and hence, $m' \\ge \\ceil{M/2}$) increases.\n",
    "    - since $(1 - A) < 1$\n",
    "    - when raised to a power ($m'$) the second term goes to $0$"
   ]
  },
  {
   "cell_type": "markdown",
   "metadata": {
    "slideshow": {
     "slide_type": "subslide"
    }
   },
   "source": [
    "The power of Ensembles comes via the size of $M$.\n",
    "\n",
    "Ensembling is independent of the types of the individual models\n",
    "- A meta-model that can combine many different types of individual models\n",
    "- Under the assumption of **independent** errors\n",
    "- Often applied in competitions"
   ]
  },
  {
   "cell_type": "markdown",
   "metadata": {
    "slideshow": {
     "slide_type": "subslide"
    }
   },
   "source": [
    " ## Ensemble prediction\n",
    "\n",
    "Each individual model comes up with a prediction for the target $\\hat{\\y}^\\ip$ of example $i$,\n",
    "given features $\\x^\\ip$.\n",
    "\n",
    "Let\n",
    "$p_{\\tp,c}^\\ip$\n",
    "- Denote the probability predicted by the $\\tt^{th}$ individual classifier\n",
    "- That target $\\y^\\ip$ is in category $c \\in C$\n",
    "- Given features $\\x^\\ip$\n",
    "\n",
    "The class predicted by the ensemble is the one with highest average  (across individual models) probability\n",
    "$$\n",
    "\\hat{\\y}^\\ip = \\argmax{c}{ \\sum_{\\tt=1}^M} { p_{\\tp,c}^\\ip }\n",
    "$$\n",
    "\n"
   ]
  },
  {
   "cell_type": "markdown",
   "metadata": {
    "slideshow": {
     "slide_type": "subslide"
    }
   },
   "source": [
    "Returning to the Ensemble of Decision Trees example, we can plot the decision boundary of\n",
    "each individual model\n",
    "- 3 classes: red, green, blue\n",
    "- the boundaries of each model differ\n",
    "- because they have been trained on different subsets of the full training dataset"
   ]
  },
  {
   "cell_type": "code",
   "execution_count": 8,
   "metadata": {
    "slideshow": {
     "slide_type": "subslide"
    }
   },
   "outputs": [
    {
     "data": {
      "image/png": "[encoded data removed]",
      "text/plain": [
       "<Figure size 864x432 with 3 Axes>"
      ]
     },
     "execution_count": 8,
     "metadata": {},
     "output_type": "execute_result"
    }
   ],
   "source": [
    "fig_submodels"
   ]
  },
  {
   "cell_type": "markdown",
   "metadata": {
    "slideshow": {
     "slide_type": "subslide"
    }
   },
   "source": [
    "By superimposing these boundaries on top of one another, we can visualize the \"vote\"\n"
   ]
  },
  {
   "cell_type": "code",
   "execution_count": 9,
   "metadata": {
    "slideshow": {
     "slide_type": "subslide"
    }
   },
   "outputs": [
    {
     "data": {
      "image/png": "[encoded data removed]",
      "text/plain": [
       "<Figure size 864x432 with 2 Axes>"
      ]
     },
     "execution_count": 9,
     "metadata": {},
     "output_type": "execute_result"
    }
   ],
   "source": [
    "fig_sum"
   ]
  },
  {
   "cell_type": "markdown",
   "metadata": {
    "slideshow": {
     "slide_type": "subslide"
    }
   },
   "source": [
    "- The left plot is the super-position\n",
    "- The right plot is the final boundary of the ensemble\n",
    "\n",
    "You can see that the combination of the weak learners does a pretty good job !"
   ]
  },
  {
   "cell_type": "markdown",
   "metadata": {
    "slideshow": {
     "slide_type": "slide"
    }
   },
   "source": [
    "# Bagging, Bootstrapping\n",
    "\n",
    "One way to construct multiple weak learners of the *same* type of model\n",
    "- Is to train each individual model on a *restricted* set of training examples\n",
    "\n",
    "Because each individual model is trained on different examples, the predictions made by\n",
    "each are hopefully somewhat independent."
   ]
  },
  {
   "cell_type": "markdown",
   "metadata": {
    "slideshow": {
     "slide_type": "subslide"
    }
   },
   "source": [
    "Given the full set of training examples\n",
    "$$ \\langle \\X, \\y \\rangle = [ \\x^\\ip, \\y^\\ip | 1 \\le i \\le m ]$$\n",
    "\n",
    "we construct a restricted set of examples \n",
    "$$ \\langle \\X_\\tp, \\y_\\tp \\rangle $$\n",
    "on which to train the $\\tt^{th}$ individual model"
   ]
  },
  {
   "cell_type": "markdown",
   "metadata": {
    "slideshow": {
     "slide_type": "subslide"
    }
   },
   "source": [
    "The restricted set \n",
    "is constructed by\n",
    "- Selecting $m$ examples at random from $\\langle \\X, \\y \\rangle$\n",
    "- *With replacement*\n",
    "- So it is possible for an example $i'$ to appear more than once in $ \\langle \\X_\\tp, \\y_\\tp \\rangle$"
   ]
  },
  {
   "cell_type": "markdown",
   "metadata": {
    "slideshow": {
     "slide_type": "subslide"
    }
   },
   "source": [
    "This process is called *bootstrapping* (or *bagging*) and results in\n",
    "- $ \\langle \\X_\\tp, \\y_\\tp \\rangle = [ \\x^{(i')}, \\y^{(i')} | i' \\in \\{ i_1, \\ldots, i_m \\} ] $\n",
    "- Where $i_1, \\ldots, i_m$ are the indices of the $m$ chosen examples\n",
    "\n",
    "<br>\n",
    "<table>\n",
    "    <tr>\n",
    "        <center><strong>Bagging</strong></center>\n",
    "    </tr>\n",
    "    <br><br>\n",
    "<img src=images/Bagging.png>\n",
    "</table>"
   ]
  },
  {
   "cell_type": "markdown",
   "metadata": {
    "slideshow": {
     "slide_type": "subslide"
    }
   },
   "source": [
    "If each of the $m$ examples in $ \\langle \\X, \\y \\rangle$ is chosen with equal probability $\\frac{1}{m}$\n",
    "- The probability of a particular example $i$ **not** being in $ \\langle \\X_\\tp, \\y_\\tp \\rangle$ is\n",
    "$$\n",
    "( 1 - \\frac{1}{m} )^m\n",
    "$$\n",
    "\n",
    "Let's plot this probability as a function of the training dataset size $m$"
   ]
  },
  {
   "cell_type": "code",
   "execution_count": 10,
   "metadata": {
    "slideshow": {
     "slide_type": "notes"
    }
   },
   "outputs": [
    {
     "name": "stderr",
     "output_type": "stream",
     "text": [
      "/home/kjp/anaconda3/lib/python3.7/site-packages/ipykernel_launcher.py:9: UserWarning: FixedFormatter should only be used together with FixedLocator\n",
      "  if __name__ == '__main__':\n"
     ]
    }
   ],
   "source": [
    "m = np.arange(50, 1000, 50)\n",
    "p = (1 - 1/m)**m\n",
    "\n",
    "\n",
    "fig, ax = plt.subplots(1,1, figsize=(12,6))\n",
    "_= ax.plot(m, p)\n",
    "_= ax.set_xlabel(\"m\")\n",
    "_= ax.set_ylabel(\"prob not in bootstrapped sample\")\n",
    "_= ax.set_yticklabels( [ \"{:.2%}\".format(y) for y in p])\n",
    "plt.close(fig)"
   ]
  },
  {
   "cell_type": "code",
   "execution_count": 11,
   "metadata": {
    "slideshow": {
     "slide_type": "subslide"
    }
   },
   "outputs": [
    {
     "data": {
      "image/png": "[encoded data removed]",
      "text/plain": [
       "<Figure size 864x432 with 1 Axes>"
      ]
     },
     "execution_count": 11,
     "metadata": {},
     "output_type": "execute_result"
    }
   ],
   "source": [
    "fig"
   ]
  },
  {
   "cell_type": "markdown",
   "metadata": {
    "slideshow": {
     "slide_type": "subslide"
    }
   },
   "source": [
    "Thus about 63% of the examples in the bootstrapped set are duplicates.\n",
    "\n",
    "Why is this a potential advantage ?\n",
    "- the model may perform better (in-sample) on duplicated examples\n",
    "- the model can't overfit  to any example that is not in its training set."
   ]
  },
  {
   "cell_type": "markdown",
   "metadata": {
    "slideshow": {
     "slide_type": "subslide"
    }
   },
   "source": [
    "The process of\n",
    "- Bootstrapping restricted training examples\n",
    "- Training individual models on the bootstrapped examples\n",
    "- Aggregating model predictions into a single prediction\n",
    "\n",
    "is called *bagging* and each individual training set is called a bag"
   ]
  },
  {
   "cell_type": "markdown",
   "metadata": {
    "slideshow": {
     "slide_type": "subslide"
    }
   },
   "source": [
    "Bagging has a nice side-effect\n",
    "- About 37% of the full set of examples are not present in a given bag\n",
    "- Called *out of bag*\n",
    "\n",
    "The out of bag examples thus can be used to test out of sample prediction !\n",
    "- a built-in validation dataset"
   ]
  },
  {
   "cell_type": "markdown",
   "metadata": {
    "slideshow": {
     "slide_type": "slide"
    }
   },
   "source": [
    "# Random Forests\n",
    "\n",
    "A Random Forest\n",
    "- Is a collection of Decision Trees\n",
    "- Of restricted power (weak learners)\n",
    "- Created by Bagging\n"
   ]
  },
  {
   "cell_type": "markdown",
   "metadata": {
    "slideshow": {
     "slide_type": "subslide"
    }
   },
   "source": [
    "The learners are made weak by\n",
    "- Training on a bootstrapped subset\n",
    "- By limiting the depth of the Decision Tree\n",
    "- By limiting the choice of feature on which to split a node\n",
    "    - To a random subset of all features\n",
    "    \n",
    "The result is that the individual models (Decision Trees) are relatively independent."
   ]
  },
  {
   "cell_type": "markdown",
   "metadata": {
    "slideshow": {
     "slide_type": "slide"
    }
   },
   "source": [
    "# Boosting\n",
    "\n",
    "There is another approach to creating ensembles of weak learners.\n",
    "\n",
    "The method is called *boosting*\n",
    "- Rather than create weak learners independently, i.e., a *set*\n",
    "- Boosting creates a *sequence* of weak learners: $M_{(0)}, M_{(1)}, \\ldots, M_{(M)}$\n",
    "- Where the $(\\tt +1)^{th}$ individual model in the sequence\n",
    "- Focuses on correctly predicting those examples *incorrectly* predicted by the $\\tt^{th}$ individual model"
   ]
  },
  {
   "cell_type": "markdown",
   "metadata": {
    "slideshow": {
     "slide_type": "subslide"
    }
   },
   "source": [
    "**Notation**\n",
    "\n",
    "We will be dealing with many sequences.  We use subscripts in parentheses to index elements of a sequence.\n",
    "$$M_{(0)}, M_{(1)}, \\ldots, M_{(M)}$$"
   ]
  },
  {
   "cell_type": "markdown",
   "metadata": {
    "slideshow": {
     "slide_type": "subslide"
    }
   },
   "source": [
    "Recall:\n",
    "- when bootstrapping/bagging\n",
    "- each individual training dataset is drawn simultaneously from the full training dataset\n",
    "\n",
    "<br>\n",
    "<table>\n",
    "    <tr>\n",
    "        <center><strong>Bagging</strong></center>\n",
    "    </tr>\n",
    "    <br><br>\n",
    "<img src=images/Bagging.png>\n",
    "</table>"
   ]
  },
  {
   "cell_type": "markdown",
   "metadata": {
    "slideshow": {
     "slide_type": "subslide"
    }
   },
   "source": [
    "In contrast\n",
    "- *boosting* creates the individual training datasets **sequentially**\n",
    "- subset $\\langle \\X_{(\\tt+1)}, \\y_{(\\tt+1)} \\rangle$ for model $M_{(\\tt+1)}$\n",
    "- is chosen to compensate for the errors of **all prior** models $\\{ M_{(\\tt')} \\; | \\; \\tt' \\lt \\tt \\}$\n",
    "\n",
    "<br>\n",
    "<table>\n",
    "    <tr>\n",
    "        <center><strong>Boosting</strong></center>\n",
    "    </tr>\n",
    "    <br><br><br><br>\n",
    "<img src=images/Boosting.png>\n",
    "</table>"
   ]
  },
  {
   "cell_type": "markdown",
   "metadata": {
    "slideshow": {
     "slide_type": "subslide"
    }
   },
   "source": [
    "How do we get an individual model to focus on some particular examples ?\n",
    "- By assigning each example a weight\n",
    "- Increasing the probability that more heavily weighted examples are included in the training examples for the model\n",
    "    - examples with poor predictions by earlier models are over-weighted in the subsequent model"
   ]
  },
  {
   "cell_type": "markdown",
   "metadata": {
    "slideshow": {
     "slide_type": "subslide"
    }
   },
   "source": [
    "Let $\\text{say}_\\tp^\\ip$ denote the weight assigned to example $i$ in the training set for the $\\tt^{th}$\n",
    "individual model\n",
    "\n",
    "The \"say\" is adjusted from the $\\tt^{th}$ model to the $(\\tt+1)^{th}$ individual model\n",
    "\n",
    "$\n",
    "\\begin{array}[lll]\\\\\n",
    "\\text{If example } i \\text{ is incorrectly predicted in model } \\tt: & \\text{say}_{(\\tt+1)}^\\ip > \\text{say}_\\tp^\\ip \\\\\n",
    "\\text{If example } i \\text{ is correctly predicted in model } \\tt: & \\text{say}_{(\\tt+1)}^\\ip <\\text{say}_\\tp^\\ip \\\\\n",
    "\\end{array}\n",
    "$\n"
   ]
  },
  {
   "cell_type": "markdown",
   "metadata": {
    "slideshow": {
     "slide_type": "subslide"
    }
   },
   "source": [
    "When bootstrapping, rather than drawing examples with equal probability\n",
    "- Draw examples for model $(\\tt +1)$ in proportion to it's $\\text{say}_{(\\tt+1)}^\\ip$\n",
    "- So examples that were \"problematic\" in model $\\tt$ are over-represented in training model $(\\tt+1)$"
   ]
  },
  {
   "cell_type": "markdown",
   "metadata": {
    "slideshow": {
     "slide_type": "subslide"
    }
   },
   "source": [
    "- Boosting creates a collection of \"specialists\" (focus on hard to predict examples)\n",
    "- Bagging creates a collection of \"generalists\", each a little better than random"
   ]
  },
  {
   "cell_type": "markdown",
   "metadata": {
    "slideshow": {
     "slide_type": "slide"
    }
   },
   "source": [
    "## AdaBoost\n",
    "\n",
    "AdaBoost is a particular model that uses boosting\n",
    "- The individual models are Decision Trees\n",
    "    - Usually depth $1$; \"stumps\"\n",
    "- There is an \"importance\" associated with each individual model \n",
    "- Models with higher weight have a greater impact on ensemble prediction\n"
   ]
  },
  {
   "cell_type": "markdown",
   "metadata": {
    "slideshow": {
     "slide_type": "slide"
    }
   },
   "source": [
    "Let\n",
    "$$\\text{importance}_\\tp$$ \n",
    "denote the weight of the $\\tt^{th}$ individual model in the sequence.\n",
    "\n",
    "- $\\text{importance}_\\tp$ is determined by the Performance Metric (e.g., Accuracy) of individual model $\\tt$\n",
    "\n",
    "- The class predicted by the ensemble is the one with highest *importance-weighted* average  (across individual models) probability\n",
    "$$\n",
    "\\hat{\\y}^\\ip = \\argmax{c}{ \\sum_{\\tt=1}^M} { ( p_{\\tp,c}^\\ip * \\text{importance}_\\tp)}\n",
    "$$\n",
    "\n",
    "Thus, models that are more successful have greater weight."
   ]
  },
  {
   "cell_type": "markdown",
   "metadata": {
    "slideshow": {
     "slide_type": "slide"
    }
   },
   "source": [
    "## Example: Boosting for a Regression task\n",
    "\n",
    "Boosting is often associate with Classification tasks\n",
    "- for example: the individual models are Decision Trees\n",
    "\n",
    "Here we show how it may be used for Regression."
   ]
  },
  {
   "cell_type": "markdown",
   "metadata": {
    "slideshow": {
     "slide_type": "subslide"
    }
   },
   "source": [
    "Our goal is to solve for the optimal parameters $\\Theta^*$ for the Linear Regression\n",
    "$$\n",
    "\\y = \\Theta \\cdot \\x + \\epsilon\n",
    "$$\n",
    "\n",
    "That is, $\\Theta^*$ minimizes the MSE\n",
    "$$\n",
    "\\Theta^* = \\argmin{\\Theta}{\\frac{1}{m} \\sum_i { (\\y^\\ip - \\Theta \\cdot \\x^\\ip)^2)} }\n",
    "$$\n",
    "\n"
   ]
  },
  {
   "cell_type": "markdown",
   "metadata": {
    "slideshow": {
     "slide_type": "subslide"
    }
   },
   "source": [
    "The Boosting method\n",
    "- creates a sequence of approximations of the optimal parameters $\\Theta$\n",
    "$$\n",
    "\\Theta^*_{(0)}, \\Theta^*_{(1)}, \\ldots\n",
    "$$\n",
    "that approach the optimal $\\Theta^*$.\n",
    "\n"
   ]
  },
  {
   "cell_type": "markdown",
   "metadata": {
    "slideshow": {
     "slide_type": "subslide"
    }
   },
   "source": [
    "Boosting creates a sequence of models\n",
    "$$M_{(0)}, M_{(1)}, \\ldots, M_{(M)}$$\n",
    "\n",
    "such that model $M_{(\\tt+1)}$ compensates for the errors of earlier models $M_{(\\tt')}$ in the sequence.\n",
    "\n",
    "Each model $M_\\tp$ in the sequence has a functional form that is a Linear\n",
    "\n",
    "Model $\\tt$\n",
    "$$\n",
    "\\begin{array} \\\\\n",
    "\\e_\\tp & = & \\Theta_\\tp \\cdot \\x  & + & \\epsilon_\\tp \\\\\n",
    "& = & \\hat \\e_\\tp & + & \\epsilon_\\tp & \\text{define } \\hat \\e_\\tp = \\Theta_\\tp \\cdot \\x\\\\\n",
    "\\end{array}\n",
    "$$\n",
    "\n",
    "where\n",
    "- $\\Theta_\\tp $ are the parameters of the model $M_\\tp$\n",
    "- $\\e_\\tp$ is the target (to be defined)\n",
    "- $\\hat \\e_\\tp$ is the predicted value\n",
    "- $\\epsilon_\\tp$ is the prediction error\n"
   ]
  },
  {
   "cell_type": "markdown",
   "metadata": {
    "slideshow": {
     "slide_type": "subslide"
    }
   },
   "source": [
    "For the first model Model $M_{(0)}$\n",
    "- target is $\\y$\n",
    "$$\n",
    "\\e_{(0)} = \\y\n",
    "$$\n",
    "- we ignore the features $\\x$ and predict the average\n",
    "$$\n",
    "\\hat \\e_{(0)} = \\bar \\y\n",
    "$$\n",
    "- the intercept parameters is $\\bar \\y$, all other parameters are $0$\n",
    "$$\n",
    "\\Theta_{(0)} = (\\bar \\y, 0, \\ldots, 0)\n",
    "$$"
   ]
  },
  {
   "cell_type": "markdown",
   "metadata": {
    "slideshow": {
     "slide_type": "subslide"
    }
   },
   "source": [
    "For subsequent models $\\tt + 1$\n",
    "- the target $\\e_{(\\tt+1)}$\n",
    "- is the *error* of the previous model $M_\\tp$\n",
    "$$\n",
    "\\e_{(\\tt+1)} = \\epsilon_\\tp\n",
    "$$\n",
    "\n",
    "Model $M_{(\\tt+1)}$ tries to find\n",
    "- additional explanatory power in the $\\x$\n",
    "- by creating $\\hat\\e_{(\\tt+1)} = \\Theta_{(\\tt+1)} \\cdot \\x$\n",
    "- that reduces the previous error $\\epsilon_\\tp$"
   ]
  },
  {
   "cell_type": "markdown",
   "metadata": {
    "slideshow": {
     "slide_type": "subslide"
    }
   },
   "source": [
    "If no additional explanatory power is possible, i.e., $\\epsilon_\\tp$ (the new target) \n",
    "- is $0$\n",
    "- or uncorrelated with $\\x$\n",
    "\n",
    "then the sequence of models is not extended further."
   ]
  },
  {
   "cell_type": "markdown",
   "metadata": {
    "slideshow": {
     "slide_type": "subslide"
    }
   },
   "source": [
    "Here is a picture of the sequence of models along with their \n",
    "- targets $\\e_\\tp$\n",
    "- predictions $\\hat \\e_\\tp$\n",
    "- and errors $\\epsilon_\\tp$\n",
    "\n",
    "$$\n",
    "\\begin{array} \\\\\n",
    "\\text{#} & \\e_\\tp & \\hat \\e_\\tp & \\epsilon_\\tp \\\\\n",
    "\\hline \\\\\n",
    "0 & \\y & \\Theta_{(0)} \\cdot \\x & \\epsilon_{(0)} \\\\\n",
    "1 & \\epsilon_{(0)}  & \\Theta_{(1)} \\cdot \\x & \\epsilon_{(1)} \\\\\n",
    "\\vdots \\\\\n",
    "M & \\epsilon_{(M-1)}  & \\Theta_{(M)} \\cdot \\x & \\epsilon_{(M)} \\\\\n",
    "\\end{array}\n",
    "$$\n"
   ]
  },
  {
   "cell_type": "markdown",
   "metadata": {
    "slideshow": {
     "slide_type": "subslide"
    }
   },
   "source": [
    "The prediction $\\hat\\y_\\tp$ of the ensemble of the first $\\tt$ models\n",
    "- is a weighted sum of the predictions of the targets of these models\n",
    "\n",
    "$$\n",
    "\\begin{array} \\\\\n",
    "\\hat{\\y}_\\tp & = & \\sum_{\\tt'=0}^\\tt { \\alpha_\\tp * \\hat{\\e}_\\tp } \\\\\n",
    "& = & \\x \\cdot \\sum_{\\tt'=0}^\\tt { \\alpha_\\tp *  \\Theta_{(\\tt')} } \\\\\n",
    "\\end{array}\n",
    "$$\n",
    "\n",
    "The boosting solution thus derives\n",
    "the coefficients $\\Theta^*$ of a direct Linear Regression model\n",
    "$$\n",
    "\\hat \\y = \\Theta^* \\cdot \\x\n",
    "$$\n",
    "iteratively, as a sum\n",
    "$$\n",
    "\\Theta^* = \\sum_{\\tt'=0}^\\tt { \\alpha_\\tp *  \\Theta_{(\\tt')} } \n",
    "$$\n",
    "\n",
    "The parameter $\\Theta_\\tp$ at step $\\tt$\n",
    "- is an *update* of estimate $\\Theta^*_{(\\tt-1)}$"
   ]
  },
  {
   "cell_type": "markdown",
   "metadata": {
    "slideshow": {
     "slide_type": "subslide"
    }
   },
   "source": [
    "We will demonstrate a method\n",
    "- called *Gradient Descent*\n",
    "- that will define the sequence of parameter *updates* $\\Theta_{(1)}, \\ldots, \\Theta_{(M)}$\n",
    "\n",
    "in a subsequent module.\n",
    "\n",
    "We call the new sequence of $\\Theta$'s \"updates\" \n",
    "- since $\\Theta_\\tp$  \n",
    "- updates the estimate of $\\Theta^*$ from the shorter sequence of $(\\tt-1)$ models.\n",
    "\n",
    "Since these boosting process uses Gradients, it is \n",
    "called *Gradient Boosting*."
   ]
  },
  {
   "cell_type": "markdown",
   "metadata": {
    "slideshow": {
     "slide_type": "subslide"
    }
   },
   "source": [
    "**Note**\n",
    "\n",
    "If we had used Linear Regression to obtain the updates $\\Theta_\\tp$ for model $M_\\tp$\n",
    "- then $\\epsilon_\\tp$ is *uncorrelated* with $\\x$\n",
    "    - property of Ordinary Least Squares (OLS) Regression\n",
    "- the sequence of models is not extended"
   ]
  },
  {
   "cell_type": "markdown",
   "metadata": {
    "slideshow": {
     "slide_type": "subslide"
    }
   },
   "source": [
    "We now relate the final prediction $\\hat\\y_{(M)}$\n",
    "- to the true target $\\y$.\n",
    "\n",
    "Since the prediction $\\hat \\e_\\tp$ of model $M_\\tp$ is the difference between target and error\n",
    "$$\n",
    "\\hat \\e_\\tp = \\e_\\tp - \\epsilon_\\tp\n",
    "$$\n",
    "we can write  the ensemble prediction (sum across the predictions of all models) as\n",
    "$$\n",
    "\\begin{array} \\\\\n",
    "\\hat\\y_{(M)} & = & \\sum_{\\tt'=0}^M { (\\e_{(\\tt')} - \\epsilon_{(\\tt')}) } & \\text{ letting } \\alpha_\\tp = 1 \\text{ for all } \\tt \\\\\n",
    "& = & (\\e_{(0)} - \\epsilon_{(0)}) + \\sum_{\\tt'=1}^M { (\\e_{(\\tt')} - \\epsilon_{(\\tt')})  } & \\text{moving } \\tt'=0 \\text{ out of the sum }\\\\\n",
    "& = & (\\e_{(0)} - \\epsilon_{(0)}) +\\sum_{\\tt'=1}^M { (\\epsilon_{(\\tt'-1)} - \\epsilon_{(\\tt')}) } & \\text{since } \\e_{(\\tt')} =  \\epsilon_{(\\tt'-1)} \\\\\n",
    "& & & \\text{the target of model } \\tt' \\text{ is the error of model } \\tt'-1 \\\\\n",
    "& = & \\e_{(0)} - \\epsilon_{(M)} & \\text{the negative } - \\epsilon_{(\\tt)}  \\text{ term  occurring when } \\tt' = \\tt  \\\\\n",
    "& & & \\text{is canceled by the positive } \\epsilon_{(\\tt'-1)} \\text{ term occurring when } \\tt' = \\tt +1 \\\\\n",
    " & & & \\text{e.g., } - \\epsilon_{(0)} \\text{ (outside the sum) is canceled by } \\epsilon_{(\\tt'-1)} \\text{ term when } \\tt' = 1 \\\\\n",
    " & & & \\text{ and } - \\epsilon_{(\\tt)} \\text{ term occurring when } \\tt'=\\tt \\text{ is cancelled by } \\epsilon_{(\\tt'-1)} \\text{ when } \\tt'=\\tt+1 \\\\\n",
    " & = & \\y -  \\epsilon_{(M)} & \\text{since } \\e_{(0)} = \\y \\\\\n",
    " \\end{array}\n",
    "$$"
   ]
  },
  {
   "cell_type": "markdown",
   "metadata": {
    "slideshow": {
     "slide_type": "subslide"
    }
   },
   "source": [
    "That is, $\\hat\\y_{(M)}$\n",
    "- is an approximation of true target $\\y$\n",
    "- with error $\\epsilon_{(M)}$\n",
    "\n",
    "Re-arranging terms we get the familiar linear form for Linear Regression\n",
    "$$\n",
    " \\y  =  \\hat\\y_{(M)} + \\epsilon_{(M)}$$"
   ]
  },
  {
   "cell_type": "markdown",
   "metadata": {
    "slideshow": {
     "slide_type": "slide"
    }
   },
   "source": [
    "## Example: Boosting for a Classification task\n",
    "\n",
    "Although we won't construct an example for Classification, there are some important\n",
    "points to consider.\n",
    "\n",
    "Each model is created from *scratch*\n",
    "- Model $M_{(\\tt+1)}$ does **not** extend model $M_\\tp$\n",
    "- For example, if the models are Decision Trees\n",
    "    - the tree for $M_{(\\tt+1)}$ is not an expansion of the tree for $M_\\tp$\n",
    "\n",
    "Although the models are created *independently*\n",
    "- their *training datasets* are constructed sequentially\n",
    "\n"
   ]
  },
  {
   "cell_type": "code",
   "execution_count": 12,
   "metadata": {
    "slideshow": {
     "slide_type": "slide"
    }
   },
   "outputs": [
    {
     "name": "stdout",
     "output_type": "stream",
     "text": [
      "Done\n"
     ]
    }
   ],
   "source": [
    "print(\"Done\")"
   ]
  }
 ],
 "metadata": {
  "celltoolbar": "Slideshow",
  "kernelspec": {
   "display_name": "Python 3",
   "language": "python",
   "name": "python3"
  },
  "language_info": {
   "codemirror_mode": {
    "name": "ipython",
    "version": 3
   },
   "file_extension": ".py",
   "mimetype": "text/x-python",
   "name": "python",
   "nbconvert_exporter": "python",
   "pygments_lexer": "ipython3",
   "version": "3.7.4"
  },
  "toc": {
   "base_numbering": 1,
   "nav_menu": {},
   "number_sections": true,
   "sideBar": true,
   "skip_h1_title": false,
   "title_cell": "Table of Contents",
   "title_sidebar": "Contents",
   "toc_cell": false,
   "toc_position": {
    "height": "calc(100% - 180px)",
    "left": "10px",
    "top": "150px",
    "width": "370.594px"
   },
   "toc_section_display": true,
   "toc_window_display": true
  }
 },
 "nbformat": 4,
 "nbformat_minor": 2
}
