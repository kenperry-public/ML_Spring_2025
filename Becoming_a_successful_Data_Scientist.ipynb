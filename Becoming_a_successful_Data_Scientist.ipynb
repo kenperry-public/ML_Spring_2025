{
 "cells": [
  {
   "cell_type": "code",
   "execution_count": 1,
   "metadata": {
    "slideshow": {
     "slide_type": "notes"
    }
   },
   "outputs": [
    {
     "data": {
      "text/latex": [
       "$$\n",
       "\\newcommand{\\x}{\\mathbf{x}}\n",
       "\\newcommand{\\tx}{\\tilde{\\x}}\n",
       "\\newcommand{\\y}{\\mathbf{y}}\n",
       "\\newcommand{\\b}{\\mathbf{b}}\n",
       "\\newcommand{\\c}{\\mathbf{c}}\n",
       "\\newcommand{\\e}{\\mathbf{e}}\n",
       "\\newcommand{\\z}{\\mathbf{z}}\n",
       "\\newcommand{\\h}{\\mathbf{h}}\n",
       "\\newcommand{\\u}{\\mathbf{u}}\n",
       "\\newcommand{\\v}{\\mathbf{v}}\n",
       "\\newcommand{\\w}{\\mathbf{w}}\n",
       "\\newcommand{\\V}{\\mathbf{V}}\n",
       "\\newcommand{\\W}{\\mathbf{W}}\n",
       "\\newcommand{\\X}{\\mathbf{X}}\n",
       "\\newcommand{\\KL}{\\mathbf{KL}}\n",
       "\\newcommand{\\E}{{\\mathbb{E}}}\n",
       "\\newcommand{\\Reals}{{\\mathbb{R}}}\n",
       "\\newcommand{\\ip}{\\mathbf{{(i)}}}\n",
       "%\n",
       "% Test set\n",
       "\\newcommand{\\xt}{\\underline{\\x}}\n",
       "\\newcommand{\\yt}{\\underline{\\y}}\n",
       "\\newcommand{\\Xt}{\\underline{\\X}}\n",
       "\\newcommand{\\perfm}{\\mathcal{P}}\n",
       "%\n",
       "% \\ll indexes a layer; we can change the actual letter\n",
       "\\newcommand{\\ll}{l}\n",
       "\\newcommand{\\llp}{{(\\ll)}}\n",
       "%\n",
       "\\newcommand{Thetam}{\\Theta_{-0}}\n",
       "\n",
       "% CNN\n",
       "\\newcommand{\\kernel}{\\mathbf{k}} \n",
       "\\newcommand{\\dim}{d}\n",
       "\\newcommand{\\idxspatial}{{\\text{idx}}}\n",
       "\\newcommand{\\summaxact}{\\text{max}}\n",
       "\\newcommand{idxb}{\\mathbf{i}}\n",
       "%\n",
       "%\n",
       "\n",
       "% RNN\n",
       "% \\tt indexes a time step\n",
       "\\newcommand{\\tt}{t}\n",
       "\\newcommand{\\tp}{{(\\tt)}}\n",
       "%\n",
       "%\n",
       "\n",
       "% LSTM\n",
       "\\newcommand{\\g}{\\mathbf{g}}\n",
       "\\newcommand{\\remember}{\\mathbf{remember}}\n",
       "\\newcommand{\\save}{\\mathbf{save}}\n",
       "\\newcommand{\\focus}{\\mathbf{focus}}\n",
       "%\n",
       "%\n",
       "% NLP\n",
       "\\newcommand{\\Vocab}{\\mathbf{V}}\n",
       "\\newcommand{\\v}{\\mathbf{v}}\n",
       "\\newcommand{\\offset}{o}\n",
       "\\newcommand{\\o}{o}\n",
       "\\newcommand{\\Emb}{\\mathbf{E}}\n",
       "%\n",
       "%\n",
       "\\newcommand{\\loss}{\\mathcal{L}}\n",
       "\\newcommand{\\cost}{\\mathcal{L}}\n",
       "%\n",
       "%                     \n",
       "\\newcommand{\\pdata}{p_\\text{data}}\n",
       "\\newcommand{\\pmodel}{p_\\text{model}}\n",
       "%\n",
       "% SVM\n",
       "\\newcommand{\\margin}{{\\mathbb{m}}}\n",
       "\\newcommand{\\lmk}{\\boldsymbol{\\ell}}\n",
       "%\n",
       "%\n",
       "% Functions with arguments\n",
       "\\def\\xsy#1#2{#1^#2}\n",
       "\\def\\rand#1{\\tilde{#1}}\n",
       "\\def\\randx{\\rand{\\x}}\n",
       "\\def\\randy{\\rand{\\y}}\n",
       "\\def\\trans#1{\\dot{#1}}\n",
       "\\def\\transx{\\trans{\\x}}\n",
       "\\def\\transy{\\trans{\\y}}\n",
       "%\n",
       "\\def\\argmax#1{\\underset{#1} {\\operatorname{argmax}} }\n",
       "\\def\\argmin#1{\\underset{#1} {\\operatorname{argmin}} }\n",
       "\\def\\max#1{\\underset{#1} {\\operatorname{max}} }\n",
       "\\def\\min#1{\\underset{#1} {\\operatorname{min}} }\n",
       "%\n",
       "\\def\\pr#1{\\mathcal{p}(#1)}\n",
       "\\def\\prc#1#2{\\mathcal{p}(#1 \\; | \\; #2)}\n",
       "\\def\\cnt#1{\\mathcal{count}_{#1}}\n",
       "\\def\\node#1{\\mathbb{#1}}\n",
       "%\n",
       "\\def\\loc#1{{\\text{##} {#1}}}\n",
       "%\n",
       "\\def\\OrderOf#1{\\mathcal{O}\\left( {#1} \\right)}\n",
       "%\n",
       "% Expectation operator\n",
       "\\def\\Exp#1{\\underset{#1} {\\operatorname{\\mathbb{E}}} }\n",
       "%\n",
       "% VAE\n",
       "\\def\\prs#1#2{\\mathcal{p}_{#2}(#1)}\n",
       "\\def\\qr#1{\\mathcal{q}(#1)}\n",
       "\\def\\qrs#1#2{\\mathcal{q}_{#2}(#1)}\n",
       "%\n",
       "% Reinforcement learning\n",
       "\\newcommand{\\Actions}{{\\mathcal{A}}} \n",
       "\\newcommand{\\actseq}{A}\n",
       "\\newcommand{\\act}{a}\n",
       "\\newcommand{\\States}{{\\mathcal{S}}}   \n",
       "\\newcommand{\\stateseq}{S}  \n",
       "\\newcommand{\\state}{s}\n",
       "\\newcommand{\\Rewards}{{\\mathcal{R}}}\n",
       "\\newcommand{\\rewseq}{R}\n",
       "\\newcommand{\\rew}{r}\n",
       "\\newcommand{\\transp}{P}\n",
       "\\newcommand{\\statevalfun}{v}\n",
       "\\newcommand{\\actvalfun}{q}\n",
       "\\newcommand{\\disc}{\\gamma}\n",
       "%\n",
       "%\n",
       "\\newcommand{\\floor}[1]{\\left\\lfloor #1 \\right\\rfloor}\n",
       "\\newcommand{\\ceil}[1]{\\left\\lceil #1 \\right\\rceil}\n",
       "%\n",
       "%\n",
       "$$\n"
      ],
      "text/plain": [
       "<IPython.core.display.Latex object>"
      ]
     },
     "metadata": {},
     "output_type": "display_data"
    }
   ],
   "source": [
    "%run Latex_macros.ipynb"
   ]
  },
  {
   "cell_type": "code",
   "execution_count": 2,
   "metadata": {
    "slideshow": {
     "slide_type": "notes"
    }
   },
   "outputs": [],
   "source": [
    "# My standard magic !  You will see this in almost all my notebooks.\n",
    "\n",
    "from IPython.core.interactiveshell import InteractiveShell\n",
    "InteractiveShell.ast_node_interactivity = \"all\"\n",
    "\n",
    "# Reload all modules imported with %aimport\n",
    "%load_ext autoreload\n",
    "%autoreload 1\n",
    "\n",
    "%matplotlib inline"
   ]
  },
  {
   "cell_type": "code",
   "execution_count": 3,
   "metadata": {
    "slideshow": {
     "slide_type": "notes"
    }
   },
   "outputs": [],
   "source": [
    "import numpy as np\n",
    "import pandas as pd\n",
    "\n",
    "import matplotlib.pyplot as plt\n",
    "\n",
    "import transform_helper\n",
    "\n",
    "sph = transform_helper.StockReturn_Pooling_Helper()\n",
    "\n",
    "# Create plots for Fundamental Assumption\n",
    "ssm = transform_helper.StockPrice_shiftedMean_Helper()\n",
    "ss_df = ssm.gen_prices(.001, .02, [10, 20], num_returns=252)\n",
    "fig_data, axs_data = ssm.plot_data(ss_df, visible=False)\n",
    "fig_segs, axs_segs = ssm.plot_segments(ss_df, visible=False)\n",
    "\n",
    "sdrift = transform_helper.StockPrice_drift_Helper()\n",
    "sdrift_df = sdrift.gen_prices(.000, .01, drift=.0015, level_init=10, num_returns=504)\n",
    "\n",
    "fig_sdrift, axs_sdrift = sdrift.plot_data(sdrift_df, visible=False)\n",
    "fig_sdrift_mean, axs_sdrift_mean = sdrift.plot_rolling(sdrift_df, window=30, visible=False)\n",
    "\n",
    "# Create plots for shifted price\n",
    "sph = transform_helper.ShiftedPrice_Helper()\n",
    "series_over_time = sph.gen_data(m=30)\n",
    "\n",
    "fig_sp, ax_sp = plt.subplots(1,1, figsize=(12,6) )\n",
    "_= sph.plot_data(series_over_time, ax=ax_sp)\n",
    "\n",
    "plt.close(fig_sp)\n",
    "\n",
    "# Create plots for relative price\n",
    "rph = transform_helper.RelativePrice_Helper()\n",
    "series = rph.gen_data(attrs=[\"area\", \"price\"])\n",
    "\n",
    "labels=[ \"USD\", \"USD\", \"RMB\", \"HKD\" ]\n",
    "\n",
    "fig_rp, ax_rp = plt.subplots(1,1, figsize=(12,6))\n",
    "_= rph.plot_data(series, ax=ax_rp, labels=labels, xlabel=\"Area\", ylabel=\"Price (local)\")\n",
    "\n",
    "plt.close(fig_rp)"
   ]
  },
  {
   "cell_type": "code",
   "execution_count": 4,
   "metadata": {
    "slideshow": {
     "slide_type": "notes"
    }
   },
   "outputs": [],
   "source": [
    "# Geron Housing Data example\n",
    "import os\n",
    "import tarfile\n",
    "import urllib.request\n",
    "\n",
    "DOWNLOAD_ROOT = \"https://raw.githubusercontent.com/ageron/handson-ml2/master/\"\n",
    "HOUSING_PATH = os.path.join(\"datasets\", \"housing\")\n",
    "HOUSING_URL = DOWNLOAD_ROOT + \"datasets/housing/housing.tgz\"\n",
    "\n",
    "def fetch_housing_data(housing_url=HOUSING_URL, housing_path=HOUSING_PATH):\n",
    "    if not os.path.isdir(housing_path):\n",
    "        os.makedirs(housing_path)\n",
    "    tgz_path = os.path.join(housing_path, \"housing.tgz\")\n",
    "    urllib.request.urlretrieve(housing_url, tgz_path)\n",
    "    housing_tgz = tarfile.open(tgz_path)\n",
    "    housing_tgz.extractall(path=housing_path)\n",
    "    housing_tgz.close()"
   ]
  },
  {
   "cell_type": "code",
   "execution_count": 5,
   "metadata": {
    "slideshow": {
     "slide_type": "notes"
    }
   },
   "outputs": [],
   "source": [
    "fetch_housing_data()"
   ]
  },
  {
   "cell_type": "code",
   "execution_count": 6,
   "metadata": {
    "slideshow": {
     "slide_type": "notes"
    }
   },
   "outputs": [],
   "source": [
    "import pandas as pd\n",
    "\n",
    "def load_housing_data(housing_path=HOUSING_PATH):\n",
    "    csv_path = os.path.join(housing_path, \"housing.csv\")\n",
    "    return pd.read_csv(csv_path)\n",
    "\n",
    "housing = load_housing_data()"
   ]
  },
  {
   "cell_type": "markdown",
   "metadata": {
    "slideshow": {
     "slide_type": "slide"
    }
   },
   "source": [
    "# Data science in practice\n",
    "\n",
    "Being a successful Data Scientist is much more than just knowing models.\n",
    "\n",
    "Being able to gather, join, and clean Data is a prerequisite to being able to train a model.\n",
    "- the remarkable success of Large Langauge Models (e.g., ChatGPT) is in large part due to vast quantities of carefully curated data"
   ]
  },
  {
   "cell_type": "markdown",
   "metadata": {
    "slideshow": {
     "slide_type": "subslide"
    }
   },
   "source": [
    "*Manipulating and transforming* the Data into a form in which a successful model can be built\n",
    "is a skill that may not be truly appreciated.\n",
    "- data is frequently transformed from its raw form to synthesized features and targets\n",
    "- the relationship between features and target may not be present in raw form\n",
    "\n",
    "It is this latter skill that we know focus on."
   ]
  },
  {
   "cell_type": "markdown",
   "metadata": {
    "slideshow": {
     "slide_type": "subslide"
    }
   },
   "source": [
    "Recall the Fundamental Assumption of Machine Learning\n",
    "\n",
    "- That each training and test example $(\\x, \\y)$ \n",
    "- is a sample drawn from $\\pdata$\n",
    "- where $\\pdata$ is the true (but unknown) distribution of examples\n"
   ]
  },
  {
   "cell_type": "markdown",
   "metadata": {
    "slideshow": {
     "slide_type": "subslide"
    }
   },
   "source": [
    "It is surprisingly easy to violate this assumption\n",
    "\n",
    "Consider the timeseries of prices of an equity"
   ]
  },
  {
   "cell_type": "code",
   "execution_count": 7,
   "metadata": {
    "slideshow": {
     "slide_type": "subslide"
    }
   },
   "outputs": [
    {
     "data": {
      "image/png": "[encoded data removed]",
      "text/plain": [
       "<Figure size 864x432 with 2 Axes>"
      ]
     },
     "execution_count": 7,
     "metadata": {},
     "output_type": "execute_result"
    }
   ],
   "source": [
    "fig_data"
   ]
  },
  {
   "cell_type": "markdown",
   "metadata": {
    "slideshow": {
     "slide_type": "subslide"
    }
   },
   "source": [
    "One can easily see that there are two distributions here\n",
    "- a low-mean (and low variance) distribution prior to the jump in Price\n",
    "- a high-mean (and high variance) distribution after the jump\n",
    "\n",
    "The test data (drawn post jump) is **not** from the same distribution as the training data (pre-jump).\n",
    "\n",
    "In fact: if the training data also includes examples post-jump\n",
    "- it would seem that the training data comes from the union of *two different* distributions"
   ]
  },
  {
   "cell_type": "markdown",
   "metadata": {
    "slideshow": {
     "slide_type": "subslide"
    }
   },
   "source": [
    "At first glance, this seems surprising.\n",
    "\n",
    "After all, each Price is drawn from the distribution of a single equity.\n",
    "\n",
    "But, as is very typical in Finance, our distributions *vary with time*.\n",
    "\n",
    "A more common example:"
   ]
  },
  {
   "cell_type": "code",
   "execution_count": 8,
   "metadata": {
    "slideshow": {
     "slide_type": "subslide"
    }
   },
   "outputs": [
    {
     "data": {
      "image/png": "[encoded data removed]",
      "text/plain": [
       "<Figure size 864x432 with 2 Axes>"
      ]
     },
     "execution_count": 8,
     "metadata": {},
     "output_type": "execute_result"
    }
   ],
   "source": [
    "fig_sdrift"
   ]
  },
  {
   "cell_type": "markdown",
   "metadata": {
    "slideshow": {
     "slide_type": "subslide"
    }
   },
   "source": [
    "So, in order to satisfy the Assumption\n",
    "- we typically transform the Price distribution into a Return distribution\n",
    "- which is often (but not always) more stable over time\n",
    "\n",
    "Converting into percent price changes (from levels) results in\n",
    "- near constant mean/variance across examples\n",
    "\n",
    "A dataset which was previously heterogeneous (in Levels)\n",
    "- has become homogeneous (in Returns)"
   ]
  },
  {
   "cell_type": "markdown",
   "metadata": {
    "slideshow": {
     "slide_type": "slide"
    }
   },
   "source": [
    "# Transformations to deal with time-varying or non-homogeneous data\n",
    "The purpose of this section is\n",
    "- to **motivate** Transformations\n",
    "- from raw features to synthetic features\n",
    "- such that the model's predictions work better\n",
    "\n",
    "We will study the Transformations is a subsequent module\n"
   ]
  },
  {
   "cell_type": "markdown",
   "metadata": {
    "slideshow": {
     "slide_type": "subslide"
    }
   },
   "source": [
    "Many Transformations are motivated by the presence of examples\n",
    "- that are not homogeneous\n",
    "    - seem to come from different distributions\n",
    "\n",
    "Often this occurs because the data varies over time."
   ]
  },
  {
   "cell_type": "markdown",
   "metadata": {
    "slideshow": {
     "slide_type": "subslide"
    }
   },
   "source": [
    "We might have been surprised that Price (Level) data results in non-homogeneous examples.\n",
    "- the ticker is the same\n",
    "- but it's behavior over time has changed\n",
    "\n",
    "There are many other variations of this problem.\n",
    "\n",
    "Knowing how to recognize and correct them is important."
   ]
  },
  {
   "cell_type": "markdown",
   "metadata": {
    "slideshow": {
     "slide_type": "subslide"
    }
   },
   "source": [
    "We will imagine that\n",
    "- the available data comes from one or more *groups* each with its own distribution.\n",
    "\n",
    "Let's go back to our original Regression problem\n",
    "- predicting Price of an apartment from its Size\n",
    "\n",
    "Consider the following graph illustrating the relationship between Price (target) and Size (features)"
   ]
  },
  {
   "cell_type": "code",
   "execution_count": 9,
   "metadata": {
    "slideshow": {
     "slide_type": "subslide"
    }
   },
   "outputs": [
    {
     "data": {
      "image/png": "[encoded data removed]",
      "text/plain": [
       "<Figure size 864x432 with 1 Axes>"
      ]
     },
     "execution_count": 9,
     "metadata": {},
     "output_type": "execute_result"
    }
   ],
   "source": [
    "fig_sp"
   ]
  },
  {
   "cell_type": "markdown",
   "metadata": {
    "slideshow": {
     "slide_type": "subslide"
    }
   },
   "source": [
    "It appears that the data in different groups is similar, but not identical.\n",
    "- relationship is linear within group\n",
    "- same \"slope\" in both groups\n",
    "- different per-group intercept"
   ]
  },
  {
   "cell_type": "markdown",
   "metadata": {
    "slideshow": {
     "slide_type": "subslide"
    }
   },
   "source": [
    "Once we make that observation\n",
    "- We might be tempted to fit a *separate model* for each group.  This is not a great idea\n",
    "    - Which model do we use for an out of sample example ?\n",
    "    - The \"goodness of fit\" increases with sample size"
   ]
  },
  {
   "cell_type": "markdown",
   "metadata": {
    "slideshow": {
     "slide_type": "subslide"
    }
   },
   "source": [
    "But: how do we even **discover** the presence of two groups\n",
    "- I added the colors for illustration\n",
    "- In practice:\n",
    "    - you are given a large dataset as a \"cloud\" of mixed examples\n",
    "    - it might be up to **you** to discover that the single \"cloud\" of points represents two groups\n",
    "\n",
    "There are multiple opportunities for a Data Scientist following the Recipe to uncover this\n",
    "- Exploratory data analysis\n",
    "    - slicing the data reveals different distributions\n",
    "- Error Analysis\n",
    "    - fitting a single line to all examples: the sign of the errors differs by group\n",
    "    \n"
   ]
  },
  {
   "cell_type": "markdown",
   "metadata": {
    "slideshow": {
     "slide_type": "subslide"
    }
   },
   "source": [
    "Another reason for the presence of more than one group \n",
    "- differences in market/geography.\n",
    "\n",
    "Consider the plot"
   ]
  },
  {
   "cell_type": "code",
   "execution_count": 10,
   "metadata": {
    "slideshow": {
     "slide_type": "subslide"
    }
   },
   "outputs": [
    {
     "data": {
      "image/png": "[encoded data removed]",
      "text/plain": [
       "<Figure size 864x432 with 1 Axes>"
      ]
     },
     "execution_count": 10,
     "metadata": {},
     "output_type": "execute_result"
    }
   ],
   "source": [
    "fig_rp"
   ]
  },
  {
   "cell_type": "markdown",
   "metadata": {
    "slideshow": {
     "slide_type": "subslide"
    }
   },
   "source": [
    "Again\n",
    "- I have added the colors\n",
    "- More typically: you have a cloud of points without any clear group distinction\n",
    "\n",
    "Once you recognize the presence of multiple groups\n",
    "- what can you do in this case ?\n",
    "\n",
    "Each group seems to have a linear relationship between Price and Size.\n",
    "\n",
    "Unlike the prior instance\n",
    "- each group seems to have its own slope and intercept"
   ]
  },
  {
   "cell_type": "markdown",
   "metadata": {
    "slideshow": {
     "slide_type": "subslide"
    }
   },
   "source": [
    "Even though each group seems different **on the surface**\n",
    "- there may be a *single* relationship between targets and features\n",
    "- that is the *same* across groups\n",
    "- at a **deeper** level\n",
    "\n",
    "(We will reveal this common relationship after some time)\n",
    "\n",
    "Being able to transform data to uncover the deeper level relationship between targets and features\n",
    "- is a skill **critical to being able to construct good models**"
   ]
  },
  {
   "cell_type": "markdown",
   "metadata": {
    "slideshow": {
     "slide_type": "slide"
    }
   },
   "source": [
    "# Transforming features to make them more predictive\n",
    "\n",
    "## **Example: modeling prepayments**\n",
    "\n",
    "We use plots from the following [notebook](Mortgage_Incentive_plots.ipynb) to illustrate."
   ]
  },
  {
   "cell_type": "markdown",
   "metadata": {
    "slideshow": {
     "slide_type": "slide"
    }
   },
   "source": [
    "Consider the following example.\n",
    "\n",
    "Suppose our goal is to predict whether a borrower will prepay a mortgage.  \n",
    "\n",
    "As raw features: we have variables\n",
    "- Interest rate (coupon) $C$ on borrower's loan\n",
    "- Rate $r$ at a which a mortgage could be re-financed\n",
    "\n",
    "The borrower has an incentive to prepay if $C > r$.\n",
    "- there are many other reasons for pre-payment\n",
    "- we focus here only on reasons caused by changing interest rates"
   ]
  },
  {
   "cell_type": "markdown",
   "metadata": {
    "slideshow": {
     "slide_type": "subslide"
    }
   },
   "source": [
    "Let's examine the available features.\n",
    "\n",
    "Consider the rate $C$ currently being paid by the borrower.\n",
    "\n",
    "Is this predictive of the probability of prepaying ?\n",
    "\n"
   ]
  },
  {
   "cell_type": "markdown",
   "metadata": {
    "slideshow": {
     "slide_type": "subslide"
    }
   },
   "source": [
    "No ! \n",
    "\n",
    "Certainly not in isolation\n",
    "\n",
    "Suppose $C = 5 \\%$\n",
    "- when the refinance rate $r > 5 \\%$: no incentive\n",
    "- when the refinance rate $r < 5 \\%$: positive incentive\n",
    "\n",
    "That is: the correlation between raw feature $r$ and the target (probability of prepaying) is not strong.\n",
    "\n",
    "So the incentive to prepay is a joint function of $C$ and $r$."
   ]
  },
  {
   "cell_type": "markdown",
   "metadata": {
    "slideshow": {
     "slide_type": "subslide"
    }
   },
   "source": [
    "Consider a different approach to modeling:\n",
    "- we use a *synthetic* feature $I$  capturing *incentive* to prepay\n",
    "- rather than just raw values $C, r$ for borrower's current rate and contemporaneous re-finance rate\n",
    "\n",
    "For example, we could create feature $I$ in several possible ways\n",
    "- $I = \\max{}(0, C-r)$\n",
    "    - incentive denominated in Percentage Points\n",
    "- $I = \\max{}(0, \\frac{C}{r} -1)$\n",
    "    - incentive denominated as relative to re-finance rate\n",
    "\n"
   ]
  },
  {
   "cell_type": "markdown",
   "metadata": {
    "slideshow": {
     "slide_type": "subslide"
    }
   },
   "source": [
    "The synthetic feature $I$ is much more likely to be correlated with the target.\n",
    "\n",
    "Hence, a transformation from $C$ and $r$ to $I$ is more likely to result in a model with good predictions."
   ]
  },
  {
   "cell_type": "markdown",
   "metadata": {
    "slideshow": {
     "slide_type": "subslide"
    }
   },
   "source": [
    "But there is *another* reason to use $I$\n",
    "\n",
    "Suppose the current level of $r$ (test time) is at an extreme value versus history (training data)\n",
    "- $r \\lt \\min{\\x^\\ip \\in \\X }{ \\x^\\ip_r }$ or $r \\gt \\min{\\x^\\ip \\in \\X }{ \\x^\\ip_r }$\n",
    "- your trained model must *extrapolate* beyond the examples on which it was trained\n",
    "    - the form of extrapolation depends on the model's functional form\n",
    "\n",
    "Our out of sample examples would not be from the same distribution as the training examples !\n"
   ]
  },
  {
   "cell_type": "markdown",
   "metadata": {
    "slideshow": {
     "slide_type": "subslide"
    }
   },
   "source": [
    "Even if the current level of $r$ is rare in history (but not at an extreme)\n",
    "- so could be from the same distribution as training\n",
    "- we have few training examples on which to base the prediction when using $r$ as the feature\n",
    "\n",
    "Synthetic $I$ is more likely to avert both issues\n",
    "- there are many historical examples $i$ where features $\\x_r^\\ip, C^\\ip$ having the same  Incentive $I$\n",
    "\n",
    "For example, $I =  \\max{}(0, C-r) = 1 \\%$ occurs when\n",
    "\n",
    "- $\\x_r^\\ip = 3\\%, \\, C^\\ip = 4\\%$ re-finance rate extremely low\n",
    "- $\\x_r^\\ip = 8\\%, \\, C^\\ip = 9\\%$ re-finance rate extremely high\n",
    "- $\\x_r^\\ip = 5\\%, \\, C^\\ip = 6 \\%$ \n"
   ]
  },
  {
   "cell_type": "markdown",
   "metadata": {
    "slideshow": {
     "slide_type": "subslide"
    }
   },
   "source": [
    "Using the synthetic feature opens up the possibility of using a lot more historical data\n",
    "- Many more historical episodes with a particular value of $\\frac{C}{r}$ or $C-r$\n",
    "- Compared to examples where the then-current re-finance rate equals today's rate $r$\n",
    "\n",
    "Another advantage: It allows the model\n",
    "- to work for examples with a range of values for $I$\n",
    "- rather than the immediate need of examples where $r \\approx r'$"
   ]
  },
  {
   "cell_type": "markdown",
   "metadata": {
    "slideshow": {
     "slide_type": "subslide"
    }
   },
   "source": [
    "In essence, re-denomination into Incentive $I$\n",
    "- has allowed us to pool examples\n",
    "    - over time\n",
    "    - over different levels of re-finance rate"
   ]
  },
  {
   "cell_type": "markdown",
   "metadata": {
    "slideshow": {
     "slide_type": "slide"
    }
   },
   "source": [
    "# Transforming data to make it more homogeneous/less time-varying ?\n",
    "\n",
    "What are the causes of heterogeneity ?\n",
    "\n",
    "Some are structural\n",
    "- a single equity ticker with a relationships that varies with time"
   ]
  },
  {
   "cell_type": "markdown",
   "metadata": {
    "slideshow": {
     "slide_type": "subslide"
    }
   },
   "source": [
    "But sometimes they arise out of necessity\n",
    "- We need large amounts of training examples to fit models\n",
    "    - more data yields better models\n",
    "    \n",
    "This sometimes requires us to **pool** examples from multiple groups\n",
    "- not enough data for a single equity ticker in a single time window\n",
    "    - pool across time\n",
    "    - pool across equity tickers\n",
    "- not enough data in a single geography\n",
    "    - pool across markets\n",
    "    "
   ]
  },
  {
   "cell_type": "markdown",
   "metadata": {
    "slideshow": {
     "slide_type": "subslide"
    }
   },
   "source": [
    "For example, a lot of Financial data is sampled at low frequency (e.g., daily)\n",
    "- So not a lot of data points for a single ticker in a short time period\n",
    "- Pool over time to increase number of examples\n",
    "    - groups caused by time-varying distribution of single stock price/return\n",
    "- Pool over many similar tickers to increase number of examples\n",
    "    - distribution per ticker is different"
   ]
  },
  {
   "cell_type": "markdown",
   "metadata": {
    "slideshow": {
     "slide_type": "slide"
    }
   },
   "source": [
    "## **Example: equity trading volume**\n",
    "   \n",
    "It might be reasonable to hypothesize that\n",
    "- the daily trading volume (or changes in volume) of an equity is a useful feature\n",
    "- for predicting stock behavior\n",
    "- stocks with high volume *appear* to be more liquid\n",
    "- jumps in volume may be a signal\n"
   ]
  },
  {
   "cell_type": "markdown",
   "metadata": {
    "slideshow": {
     "slide_type": "subslide"
    }
   },
   "source": [
    "How should we measure the Volume of a ticker ?\n",
    "\n",
    "The obvious unit of measurement is \"number of shares\".\n",
    "\n",
    "In this section, we show why this *may not* be the best measure.\n",
    "\n",
    "We use plots from this [notebook](NVDA_normalization.ipynb) to discuss alternative measures."
   ]
  },
  {
   "cell_type": "markdown",
   "metadata": {
    "slideshow": {
     "slide_type": "subslide"
    }
   },
   "source": [
    "Suppose we use the measure for the raw features, i.e., \"shares\".\n",
    "\n",
    "If we do so\n",
    "- we may not discover a signal *solely* related to the ticker\n",
    "- when market volume is high\n",
    "    - the volume of all tickers is high\n",
    "    \n",
    "Thus, an unusually high volume as measured in \"number of shares\" may not be a valid trading signal."
   ]
  },
  {
   "cell_type": "markdown",
   "metadata": {
    "slideshow": {
     "slide_type": "subslide"
    }
   },
   "source": [
    "By re-denominating the ticker's Volume \n",
    "- into units \"fraction of total market volume\"\n",
    "$$\n",
    "\\text{relative volume}_j = \\frac{\\text{volume}_j}{\\sum_{j' \\in \\mathbb{U}} \\text{volume}_{j'}}\n",
    "$$\n",
    "\n",
    "- we remove the effect of changes in ticker volume solely related to changes in Market volume."
   ]
  },
  {
   "cell_type": "markdown",
   "metadata": {
    "slideshow": {
     "slide_type": "subslide"
    }
   },
   "source": [
    "So now the volume of ticker $j$ can be measured at multiple times\n",
    "- increasing the number of training examples\n",
    "- without introducing heterogeneity \n",
    "\n",
    "A non-homogeneous measure of Volume has been made homogeneous !\n",
    "\n",
    "This change of units is accomplished\n",
    "- as a *Transformation* in our Recipe"
   ]
  },
  {
   "cell_type": "markdown",
   "metadata": {
    "slideshow": {
     "slide_type": "slide"
    }
   },
   "source": [
    "## **Example: equity trading volume**\n",
    "\n",
    "Another re-denomination is possible\n",
    "- into units \"fraction of ticker's tradable shares\"\n",
    "\n",
    "That is: what *fraction* of the ticker's available shares has traded.\n",
    "\n",
    "$$\n",
    "\\text{fraction volume}_j = \\frac{\\text{volume}_j}{\\text{shares outstanding}_j}{}\n",
    "$$\n",
    "\n",
    "This re-denomination might allow us to pool across two nearly-identical tickers\n",
    "- same Market Cap\n",
    "- but one with\n",
    "    - twice the number of shares\n",
    "        - and hence: likely twice the Volume when denominated in units of \"number of shares\"\n",
    "    - but half the Price\n",
    "       "
   ]
  },
  {
   "cell_type": "markdown",
   "metadata": {
    "slideshow": {
     "slide_type": "subslide"
    }
   },
   "source": [
    "This transformation of units also works for a single ticker\n",
    "- that has had a Stock Split\n",
    "    - doubling shares but halving price\n",
    "- we can now pool across time"
   ]
  },
  {
   "cell_type": "markdown",
   "metadata": {
    "slideshow": {
     "slide_type": "subslide"
    }
   },
   "source": [
    "Again\n",
    "- a Transformation into different units\n",
    "- has allowed us to increase the number of training examples\n",
    "- by pooling across multiple tickers\n",
    "- without introducing heterogeneity"
   ]
  },
  {
   "cell_type": "markdown",
   "metadata": {
    "slideshow": {
     "slide_type": "slide"
    }
   },
   "source": [
    "## **Example: equity trading volume**\n",
    "\n",
    "Another common re-denomination of Volume is\n",
    "- into units of \"Dollar Volume*\n",
    "\n",
    "$$\n",
    "\\text{Dollar Volume} = \\text{Volume} * \\text{Price}\n",
    "$$\n",
    "\n",
    "Often: this is used as a threshold to limit which Tickers to pool\n",
    "- include a ticker only if it's Dollar Volume each day is \"significant\""
   ]
  },
  {
   "cell_type": "markdown",
   "metadata": {
    "slideshow": {
     "slide_type": "slide"
    }
   },
   "source": [
    "## **Which measure of Volume should we use ?**\n",
    "\n",
    "We tried to verbally describe the advantages/disadvantages of each measure.\n",
    "\n",
    "**But** recall the Fundamental Theorem of Machine Learning !\n",
    "\n",
    "This requires that\n",
    "- the examples we will encounter in the future (out-of-sample, \"test\")\n",
    "- are from the same distribution as the examples on which we train\n",
    "\n",
    "Do all measures satisfy this property ?"
   ]
  },
  {
   "cell_type": "markdown",
   "metadata": {
    "slideshow": {
     "slide_type": "subslide"
    }
   },
   "source": [
    "\n",
    "Using plots of the training and test distributions\n",
    "- we will show that some measures *do not satisfy the Fundamental Theorem* !\n",
    "\n",
    "So, we really *don't* have a choice of the measure !\n",
    "- use the one that best satisfies the Theorem\n",
    "\n",
    "Let's go back to the [notebook](NVDA_normalization.ipynb#Let's-assume-that-the-training-data-and-test-data-are-from-the-first/second-half.)\n"
   ]
  },
  {
   "cell_type": "markdown",
   "metadata": {
    "slideshow": {
     "slide_type": "slide"
    }
   },
   "source": [
    "# The power of Pooling\n",
    "\n",
    "Both the Mortgage and Equity Volume examples\n",
    "- allowed us to combine data from multiple time periods\n",
    "- into more uniform distributions\n",
    "\n",
    "This is called **Pooling**\n",
    "\n",
    "**Pooling data**\n",
    "- over time\n",
    "- over geographies\n",
    "- over many tickers"
   ]
  },
  {
   "cell_type": "markdown",
   "metadata": {
    "slideshow": {
     "slide_type": "slide"
    }
   },
   "source": [
    "Pooling increases the size of the training dataset\n",
    "- and can result in better models\n",
    "\n",
    "**This is particularly valuable in Finance**\n",
    "- where sample sizes can be small\n",
    "- because observations occur at low frequency (daily)"
   ]
  },
  {
   "cell_type": "markdown",
   "metadata": {
    "slideshow": {
     "slide_type": "subslide"
    }
   },
   "source": [
    "Moreover, in order for the pooled data to be homogeneous\n",
    "- we have transformed the data or creates synthetic features.\n",
    "\n",
    "Often, these synthetic features highlight\n",
    "- the true *semantics/reason* of the problem (e.g., prepayment)\n",
    "    - relationship between $C$ and $r$\n",
    "- rather than *syntax/surface* reasons\n",
    "    - absolute level of re-finance rate $r$\n",
    "    \n",
    "A model based on deeper meaning of features\n",
    "- hopefully is more likely to generalize to out of sample examples"
   ]
  },
  {
   "cell_type": "markdown",
   "metadata": {
    "slideshow": {
     "slide_type": "slide"
    }
   },
   "source": [
    "# Becoming a successful Data Scientist\n",
    "\n",
    "The examples in this notebook illustrate the challenges that a Data Scientist encounters.\n",
    "\n",
    "What distinguishes an \"good\" Data Scientist from a \"great\" one is the knowledge and skill to\n",
    "recognize and circumvent the challenges.\n",
    "\n",
    "**A key skill of a Data Scientist** is the ability\n",
    "- to strip away surface differences and reveal underlying commonality between groups\n",
    "- being able to adapt models to deal with multiple groups"
   ]
  },
  {
   "cell_type": "markdown",
   "metadata": {
    "slideshow": {
     "slide_type": "subslide"
    }
   },
   "source": [
    "You can *recognize* the challenge\n",
    "- before starting: by superior Exploratory Data Analysis\n",
    "- after staring: by superior Error Analysis\n",
    "\n",
    "Once you recognize the challenges, you may be able to *circumvent* them by\n",
    "- Transforming the data\n",
    "    - imposing homogeneity\n",
    "    - adding features that distinguish between groups\n",
    "- Find the correct functional form for the model\n",
    "    - linear\n",
    "    - polynomial\n",
    "    - something new"
   ]
  },
  {
   "cell_type": "markdown",
   "metadata": {
    "slideshow": {
     "slide_type": "slide"
    }
   },
   "source": [
    "## The world before Black Scholes option pricing\n",
    "\n",
    "The relationships between targets and features we have explored have usually been simple.\n",
    "\n",
    "In the real world: the relationships are complex\n",
    "- missing features\n",
    "- interaction between features\n",
    "- described by a new \"theory\" that is validated by data\n"
   ]
  },
  {
   "cell_type": "markdown",
   "metadata": {
    "slideshow": {
     "slide_type": "subslide"
    }
   },
   "source": [
    "Consider the goal of predicting the price of a call option from features of the option.\n",
    "\n",
    "In the days before the Black Scholes pricing formula was discovered\n",
    "- people proposed (partially successful) functional forms relating price to features\n",
    "    - traders carried around tables of approximate prices\n",
    "    - based on models that partially/conditionally explained prices"
   ]
  },
  {
   "cell_type": "markdown",
   "metadata": {
    "slideshow": {
     "slide_type": "subslide"
    }
   },
   "source": [
    "Even without a perfect model, an imaginative Data Scientist can come up with partially successful models\n",
    "with high utility.\n",
    "\n",
    "A Data Scientist needs\n",
    "- intuition\n",
    "- imagination\n",
    "- scientific rigor and the will to experiment\n",
    "\n",
    "in order to be able to postulate/test theories relating target to features."
   ]
  },
  {
   "cell_type": "markdown",
   "metadata": {
    "slideshow": {
     "slide_type": "subslide"
    }
   },
   "source": [
    "A couple of observations on the Black Scholes call price formula\n",
    "\n",
    "$$\n",
    "C = \\mathcal{N}(d_1) S_t + - \\mathcal{N}(d_2)K * e^{- r*t }\n",
    "$$\n",
    "where\n",
    "$$\n",
    "\\begin{array} \\\\\n",
    "d_1 & = & \\frac{ \\log_e (\\frac{S_t}{K}) + (r + .5*\\sigma^2)*t\n",
    "               }\n",
    "               {\n",
    "               \\sigma * \\sqrt{t}\n",
    "               } \n",
    "               \\\\\n",
    "d_2 & = & d_1 - \\sigma * \\sqrt{t}\n",
    "\\end{array}\n",
    "$$\n",
    "\n",
    "Notice some interesting \"transformed features\" in the $d_1$ term\n",
    "- Price is denominated relative to the strike : $\\frac{S_t}{K}$\n",
    "- Volatility is scaled by time to maturity $t$: $\\sigma * \\sqrt{t}$\n",
    "\n",
    "These non-obvious features derive, perhaps, from a need to \"normalize\" the feature."
   ]
  },
  {
   "cell_type": "markdown",
   "metadata": {
    "slideshow": {
     "slide_type": "slide"
    }
   },
   "source": [
    "# Wrap-up\n",
    "\n",
    "Obviously, these examples were contrived and overly simple.\n",
    "\n",
    "In practice, more complex transformations are necessary to make groups more homogeneous.\n",
    "\n",
    "The insight of the Data Scientist is key in guiding the process.\n",
    "\n",
    "We will show transformations that address each of these examples (and more) in a separate module."
   ]
  },
  {
   "cell_type": "code",
   "execution_count": 11,
   "metadata": {
    "slideshow": {
     "slide_type": "slide"
    }
   },
   "outputs": [
    {
     "name": "stdout",
     "output_type": "stream",
     "text": [
      "Done\n"
     ]
    }
   ],
   "source": [
    "print(\"Done\")"
   ]
  }
 ],
 "metadata": {
  "celltoolbar": "Slideshow",
  "kernelspec": {
   "display_name": "Python 3",
   "language": "python",
   "name": "python3"
  },
  "language_info": {
   "codemirror_mode": {
    "name": "ipython",
    "version": 3
   },
   "file_extension": ".py",
   "mimetype": "text/x-python",
   "name": "python",
   "nbconvert_exporter": "python",
   "pygments_lexer": "ipython3",
   "version": "3.7.4"
  },
  "toc": {
   "base_numbering": 1,
   "nav_menu": {},
   "number_sections": true,
   "sideBar": true,
   "skip_h1_title": false,
   "title_cell": "Table of Contents",
   "title_sidebar": "Contents",
   "toc_cell": false,
   "toc_position": {
    "height": "calc(100% - 180px)",
    "left": "10px",
    "top": "150px",
    "width": "369.188px"
   },
   "toc_section_display": true,
   "toc_window_display": true
  }
 },
 "nbformat": 4,
 "nbformat_minor": 2
}
