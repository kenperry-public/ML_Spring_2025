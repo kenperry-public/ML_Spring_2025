{
 "cells": [
  {
   "cell_type": "markdown",
   "metadata": {},
   "source": [
    "# Final project: Stock Prediction\n",
    "\n",
    "Given the recent stock market history, you will predict the return for ticker AAPL for the day ahead."
   ]
  },
  {
   "cell_type": "markdown",
   "metadata": {},
   "source": [
    "# Objectives\n",
    "\n",
    "You will demonstrate your strengths in several areas, especially\n",
    "- Exploratory Data Analysis\n",
    "- Feature Engineering\n",
    "- Creating, testing and evaluating models\n",
    "- Error analysis\n",
    "and Prediction **using Neural Networks**.\n",
    "\n",
    "Your objective will be to predict next period price returns of a stock given past price data."
   ]
  },
  {
   "cell_type": "markdown",
   "metadata": {},
   "source": [
    "**To be precise**\n",
    "- given recent prices for a number of tickers (the training data)\n",
    "    - you will create a model\n",
    "    - that takes training data available up to and including date $(t-1)$ \n",
    "    - to predict the return of ticker AAPL on date $t$"
   ]
  },
  {
   "cell_type": "markdown",
   "metadata": {},
   "source": [
    "We will evaluate your model using *holdout data*\n",
    "- identical in format to the training data\n",
    "- but beginning on a date strictly after the last date in the training data\n",
    "\n",
    "You will write a function\n",
    "- that takes an example from the holdout data\n",
    "- and predicts the date $t'$ return of AAPL\n",
    "- where $t'$  is in the *last* 200 days of the holdout data's date range\n",
    "\n",
    "This same function should be used on your training/validation/test data as well.\n",
    "- to make a prediction for each date $t$ in the data set.\n",
    "\n",
    "We will run this function, one date $t'$ at a time, for each of the last 200 days of the holdout data's date range.\n",
    "- when predicting for date $t'$, you need not use your predictions for any date $t'' \\lt t'$ \n",
    "- your prediction on date $t'$ should depend only on actual past data, not any prior prediction\n",
    "\n",
    "Naturally, your function, when called to predict for date $t'$, may only use\n",
    "data available up to and including date $(t'-1)$\n",
    "\n",
    "\n"
   ]
  },
  {
   "cell_type": "markdown",
   "metadata": {},
   "source": [
    "# Don't expect your model to succeed too well !\n",
    "\n",
    "**Predicting forward returns/prices is hard ! If you could do it well: you would be rich**\n",
    "\n",
    "Given that fact, out of sample performance will **not** be the sole metric for your grade\n",
    "\n",
    "This project will test your ability to analyze data, create hypotheses, test them, and improve through iteration.\n",
    "\n",
    "Thus, this is a project that \n",
    "- evaluates your thinking and problem-solving process\n",
    "- rather than the success of your predictions\n",
    "\n",
    "**You will learn a lot, especially from failures**\n",
    "\n",
    "Include failed hypotheses/experiments in the notebook and explain what steps you\n",
    "followed in response to the failure.\n",
    "\n",
    "We can only measure the quality of your thinking/problem-solving process\n",
    "- through the descriptions in your notebook\n",
    "- remember: the notebook is a movie, not a snapshot\n"
   ]
  },
  {
   "cell_type": "markdown",
   "metadata": {},
   "source": [
    "This project provides a wealth of opportunity for\n",
    "- Exploratory data analysis\n",
    "    - This can suggest several different approaches to building one or more models\n",
    "- Error Analysis\n",
    "- Creating, and evaluating models iteratively, learning from past failures and successes.\n",
    "\n",
    "So your performance will be based on your creativity and experimental process, even if the process\n",
    "does not lead to great out of sample performance"
   ]
  },
  {
   "cell_type": "markdown",
   "metadata": {},
   "source": [
    "# The data\n",
    "\n",
    "As explained in the Final Project Overview:\n",
    "- you will be given a data directory for training (the training data)\n",
    "    - supplied as a compressed archive file in the course's Resource tab in NYU Classes\n",
    "    - unpacking this file will yield directory `./Data/train`\n",
    "\n",
    "The data directory will contain one file per ticker, with a history going back many years of fields including\n",
    "- Price: Close, Adj Close, Open, High, Low\n",
    "- Volume\n",
    "\n",
    "\"return\" means the percent change in the **Close** feature\n",
    "- you can choose to define return based on the **Adj Close** feature\n",
    "    - but you should explain your choice\n",
    "    - in the rest of the instructions: the word \"Close\" will refer to whichever choice you made\n",
    "\n",
    "\n",
    "  "
   ]
  },
  {
   "cell_type": "markdown",
   "metadata": {},
   "source": [
    "**Note**\n",
    "\n",
    "We are *not* providing you with a training/validation/test dataset containing examples as in past assignments.\n",
    "\n",
    "Instead: \n",
    "- we are providing a directory of data files\n",
    "- it is your responsibility to create examples from this data\n",
    "    - you will create examples for training/validation/test/holdout datasets\n",
    "- the examples you create will reflect your judgment as to what raw/synthetic features have predictive value"
   ]
  },
  {
   "cell_type": "markdown",
   "metadata": {},
   "source": [
    "## Data preparation\n",
    "\n",
    "The training data contains raw features for a number of tickers, each in a separate file per ticker.\n",
    "\n",
    "You will need to \n",
    "- decide which files and which fields within the file to use\n",
    "- use the data to create examples used for training, validation, testing, and holdout evaluation.\n",
    "\n",
    "That is: the conversion of the raw files into examples is left totally at your discretion.\n",
    "  \n",
    "You will need to create training examples using the training data as raw material.\n",
    "- you may use raw attributes as is, if you find it appropriate\n",
    "- you may choose to create synthetic features derived from this raw material"
   ]
  },
  {
   "cell_type": "markdown",
   "metadata": {},
   "source": [
    "\n",
    "**Remember**: \n",
    "\n",
    "Not only will you to convert the data into examples for training\n",
    "- but for multiple purposes\n",
    "- training/validation/test/holdout examples\n",
    "\n",
    "All these examples should have the same format\n",
    "- So it may be best to create a function that takes a directory (training or holdout) and\n",
    "creates examples in the required format."
   ]
  },
  {
   "cell_type": "markdown",
   "metadata": {},
   "source": [
    "## Requirement: describe the format of your examples\n",
    "\n",
    "The format of your examples\n",
    "- is up to you to decide\n",
    "- may be different for different models\n",
    "    - some models may have layers that accommodate *non-feature* dimensions\n",
    "    - some models may have layers that require **no** non-feature dimensions\n",
    "\n",
    "Each example should correspond to the prediction for a single date $t$.\n",
    "- there should be an attribute `Dt` that corresponds to the *prediction* date $t$\n",
    "    - the date of the target return\n",
    "- every non-target part of the example is left to your discretion, but you must describe it\n",
    "    - inputs of the example may reference data **no later than** $(t-1)$\n",
    "    - the target should be the date $t$ return of AAPL\n",
    "\n",
    "**You must describe the format of an example** so that the grader can understand the input to your model\n",
    "- the grader will not guess what the format is !\n",
    "\n",
    "For instance:   \n",
    "- what is the shape of an example ?\n",
    "    - how many (if any) non-feature dimensions ?\n",
    "        - give a name to each of these dimensions and describe its purpose\n",
    "    - how many features ?\n",
    "        - give a name to each feature and describe its purpose\n",
    "            - particularly necessary for synthetic features that you create\n",
    "\n",
    "You will likely create multiple models.\n",
    "Some models may share the same format -- you need only to describe the format once.\n",
    "\n",
    "But every model in your notebook must reference a description of the format that it uses.\n",
    "\n",
    "**Make sure it is easy to find your description in the notebook**\n",
    "- use a section header\n"
   ]
  },
  {
   "cell_type": "markdown",
   "metadata": {},
   "source": [
    "The example format you choose\n",
    "- will reflect your judgment as to what inputs have predictive value for next day returns\n",
    "    - for example: might the Open price for a past date have predictive value ?\n",
    "    - if so: you should probably have an input element of your example based on this attribute\n",
    "- will reflect the requirements of the model's code"
   ]
  },
  {
   "cell_type": "markdown",
   "metadata": {},
   "source": [
    "# Out of sample evaluation\n",
    "\n",
    "*You* should test your models out of sample.\n",
    "\n",
    "This will be beneficial as *we* will evaluate your model out of sample using a holdout data directory.\n",
    "\n",
    "The *holdout data directory* will be for dates that are strictly later than the latest date in the\n",
    "training data directory.\n",
    "- will contain 2 years of data\n",
    "- you will be required to predict the latest 200 returns of AAPL for this holdout directory\n",
    "- your submission *must work on the holdout directory*\n",
    "    - you should assume the directory is at relative path  `./data/holdout`\n",
    "\n",
    "The holdout directory will be identical in structure and format to the training directory, just for a later date range.  No attributes will be hidden in the holdout directory.\n",
    " \n",
    " \n",
    "So you might want to create your own validation/test data (from the training data directory) that mimics what the holdout data directory will contain.\n",
    "- this will give you confidence that your function will work on the holdout data\n",
    "\n",
    "It is up to you to decide on the out of sample data that you use for model development.\n"
   ]
  },
  {
   "cell_type": "markdown",
   "metadata": {},
   "source": [
    "# Suggestions for  getting started\n",
    "\n",
    "The problem we presented to you is unstructured and not precisely defined in full detail.\n",
    "\n",
    "- Start by defining, in detail,  the problem that you will attempt to solve\n",
    "    - Do you view this as a Regression task ?  A Classification task\n",
    "        - explain and justify your choice\n",
    "    - Define the Performance Metric that you think is appropriate\n",
    "        - justify your choice\n",
    "\n",
    "- Start with a simple model, using only data from AAPL (few features)\n",
    "    - Use the model to get a feel for the problem\n",
    "    - Will be a good baseline\n",
    "    - Will help you form new hypotheses to test\n",
    "        - may guide the choice of additional features\n",
    "        \n",
    "- Create new models iteratively\n",
    "    - Train and evaluate a \"simpler\" model\n",
    "    - Evaluate performance\n",
    "    - Perform error analysis\n",
    "    - Propose a new \"less simple\" model\n",
    "        - add as many features as you like, from any file in the directory"
   ]
  },
  {
   "cell_type": "markdown",
   "metadata": {},
   "source": [
    "- Be disciplined in your process: avoid repeating code\n",
    "    - **we may penalize you for repeating code that is better consolidated in a function**\n",
    "    - It will be easier if you have common code that works for\n",
    "        - the training directory\n",
    "        - the test directory (that you might choose to create)\n",
    "        - the holdout directory\n",
    "    - For example, common code\n",
    "        - to create examples from a directory of data\n",
    "        - to make a prediction\n",
    "        \n",
    "- This will\n",
    "    - simplify your process\n",
    "    - help ensure that your submission will work on the holdout directory !"
   ]
  },
  {
   "cell_type": "markdown",
   "metadata": {},
   "source": [
    "- Give careful thought to what inputs might be useful for predicting next day return\n",
    "    - some should be obvious\n",
    "    - others will present themselves iteratively\n",
    "        - once earlier experiments fail to make good predictions\n"
   ]
  },
  {
   "cell_type": "markdown",
   "metadata": {},
   "source": [
    "# Warning: Avoid looking into the future !\n",
    "\n",
    "Obviously, you should not use knowledge of the future to predict future prices.\n",
    "\n",
    "But it is surprisingly easy to inadvertantly do so !  For example:\n",
    "- when standardizing a data set: you might compute averages and standard deviations over the full range of dates\n",
    "    - this means that the earliest dates have implicit knowledge of later dates\n",
    "        - for example, suppose the mean increases after 10 days\n",
    "        - the observations of the first 9 days *should not know* that the mean of the entire data range is different than what is available from earlier observations"
   ]
  },
  {
   "cell_type": "markdown",
   "metadata": {},
   "source": [
    "# Evaluating your model\n",
    "   \n",
    "Your goals\n",
    "- demonstrate that your models can predict in-sample (based on training only) somewhat successfully\n",
    "    - this is easier than predicting out of sample\n",
    "    - this will show that your model has \"learned\" something\n",
    "- evaluate your model out of sample using the validation/test set you created\n",
    "- run multiple experiments to try to improve out of sample prediction\n",
    "- present a \"final model\" which we will evaluate with a holdout dataset\n",
    "     - The holdout dataset will be identical in structure to the full data set we provide\n",
    "     - *BUT* the dates will be strictly after the dates in the full dataset."
   ]
  },
  {
   "cell_type": "markdown",
   "metadata": {},
   "source": [
    "# Guidance on notebook style\n",
    "\n",
    "Although your notebook may have several models\n",
    "- **make it very clear** which model is your \"final model\" to be evaluated.\n",
    "- for example\n",
    "    - by creating a single procedure to run your final model\n",
    "    - similar to `MyModel` in the mid-term project.\n",
    "    \n",
    "Your notebook will  probably have lots of code that does not contribute to being able to run\n",
    "your final model.\n",
    "\n",
    "We don't want to have to run the entire notebook or figure out which cells need to be run as a prerequisite for running the final model. So, as a matter of good coding practice, please try to create a single function (or make that code part of the body of the procedure that runs your final model) that invokes everything that is needed in order for the final model to work.\n",
    "\n",
    "We realize that, as a practical matter, it may not be possible to make the procedure for your final model succeed in a completely stand-alone manner.  The goal of this course is Data Science, not Software Engineering, so you don't need to go to extraordinary lengths to make your procedure completely independent of the rest of the notebook.  \n",
    "\n",
    "At a minimum: organize your notebook and use mark-down  to make the Grader's job as easy as possible."
   ]
  },
  {
   "cell_type": "markdown",
   "metadata": {},
   "source": [
    "# Final reminder: document your thought process\n",
    "\n",
    "**The key to getting a good grade** is to\n",
    "- document everything you do\n",
    "- justify the many choices you will have to make -- use data and intuition to back up your statements\n",
    "- report on failed theories/experiments\n",
    "    - it shows the amount of effort you expended\n",
    "    - tell us\n",
    "        - why you thought it was a good idea to try\n",
    "        - what you learned from the failure\n",
    "        - how the failure led you to try something different\n",
    "        \n",
    "The out of sample prediction is hard -- you may or may not do well.\n",
    "\n",
    "What is important is to see how you tried to improve and how failure as well as success led to\n",
    "better experiments."
   ]
  }
 ],
 "metadata": {
  "kernelspec": {
   "display_name": "Python 3",
   "language": "python",
   "name": "python3"
  },
  "language_info": {
   "codemirror_mode": {
    "name": "ipython",
    "version": 3
   },
   "file_extension": ".py",
   "mimetype": "text/x-python",
   "name": "python",
   "nbconvert_exporter": "python",
   "pygments_lexer": "ipython3",
   "version": "3.7.4"
  },
  "toc": {
   "base_numbering": 1,
   "nav_menu": {},
   "number_sections": true,
   "sideBar": true,
   "skip_h1_title": false,
   "title_cell": "Table of Contents",
   "title_sidebar": "Contents",
   "toc_cell": false,
   "toc_position": {
    "height": "calc(100% - 180px)",
    "left": "10px",
    "top": "150px",
    "width": "370px"
   },
   "toc_section_display": true,
   "toc_window_display": true
  }
 },
 "nbformat": 4,
 "nbformat_minor": 2
}
